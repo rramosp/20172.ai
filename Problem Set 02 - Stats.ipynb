{
 "cells": [
  {
   "cell_type": "markdown",
   "metadata": {},
   "source": [
    "## EJECUTA ESTA CELDA PARA AUTENTICARTE CON TU CUENTA DE GMAIL"
   ]
  },
  {
   "cell_type": "code",
   "execution_count": null,
   "metadata": {
    "collapsed": true
   },
   "outputs": [],
   "source": [
    "from mooclib import *\n",
    "import inspect, urllib\n",
    "html, auth_code, userinfo = google_authenticate(PORT_NUMBER=8111)\n",
    "html"
   ]
  },
  {
   "cell_type": "markdown",
   "metadata": {},
   "source": [
    "## <font style=\"color: red\"> Esta práctica contiene 5 ejercicios <!-- ONLY IN NOTEBOOK -->"
   ]
  },
  {
   "cell_type": "markdown",
   "metadata": {},
   "source": [
    "### Ejercicio 1: Probabilidad analítica"
   ]
  },
  {
   "cell_type": "markdown",
   "metadata": {},
   "source": [
    "Completa la función `aprob` para que, dada una distribución representada por `D`, un objeto `scipy.stats`, devuelva\n",
    "\n",
    "$$P(X>a\\;\\; \\&\\;\\; X<b)$$\n",
    "\n",
    "para ello usa la función CDF que tiene la distribución sabiendo que:\n",
    "\n",
    "$$P(X<t) = CDF_X(t)$$\n",
    "\n",
    "#### Ejemplo de ejecución\n",
    "\n",
    "    > eprob(stats.norm(loc=10, scale=2),6,14)\n",
    "    \n",
    "    0.95449973610364158\n",
    "     "
   ]
  },
  {
   "cell_type": "code",
   "execution_count": null,
   "metadata": {
    "collapsed": true
   },
   "outputs": [],
   "source": [
    "import scipy.stats as stats\n",
    "\n",
    "def aprob(D, a, b):\n",
    "    # TU CODIGO AQUI\n",
    "    result = ???\n",
    "    return result\n",
    "\n",
    "import urllib, inspect\n",
    "src1 = urllib.quote_plus(inspect.getsource(aprob))"
   ]
  },
  {
   "cell_type": "code",
   "execution_count": null,
   "metadata": {
    "collapsed": true
   },
   "outputs": [],
   "source": [
    "# -- VERIFICA TU CODIGO --\n",
    "import scipy.stats as stats\n",
    "aprob(stats.norm(loc=10, scale=2),6,14)"
   ]
  },
  {
   "cell_type": "markdown",
   "metadata": {},
   "source": [
    "#### evaluate your answer before submitting:"
   ]
  },
  {
   "cell_type": "code",
   "execution_count": null,
   "metadata": {
    "collapsed": true
   },
   "outputs": [],
   "source": [
    "!./run CHECK_SOLUTION PS2_1 $src1"
   ]
  },
  {
   "cell_type": "markdown",
   "metadata": {},
   "source": [
    "#### submit your answer (you must be connected to internet)"
   ]
  },
  {
   "cell_type": "code",
   "execution_count": null,
   "metadata": {
    "collapsed": true
   },
   "outputs": [],
   "source": [
    "!./run SUBMIT_SOLUTION PS2_1 $src1"
   ]
  },
  {
   "cell_type": "markdown",
   "metadata": {},
   "source": [
    "### Ejercicio 2: Probabilidad empírica"
   ]
  },
  {
   "cell_type": "markdown",
   "metadata": {},
   "source": [
    "Completa la siguiente función para que, dada una muestra `X`, calcule el porcentaje de elementos de `X` que están entre `a` y `b`. Es decir, una aproximación empírica a:\n",
    "\n",
    "$$P(X>a\\;\\; \\&\\;\\; X<b)$$\n",
    "\n",
    "\n",
    "#### Ejemplo de ejecución\n",
    "\n",
    "    > eprob(np.random.normal(loc=10, scale=2, size=10000),6,14)\n",
    "    \n",
    "    0.9534\n",
    "    \n",
    "_el resultado seguramente no sea exactamente este, sino muy cercano_"
   ]
  },
  {
   "cell_type": "code",
   "execution_count": null,
   "metadata": {
    "collapsed": true
   },
   "outputs": [],
   "source": [
    "import numpy as np\n",
    "\n",
    "def eprob(X,a,b):\n",
    "    # TU CODIGO AQUI\n",
    "    result = ...\n",
    "    return result\n",
    "\n",
    "import urllib, inspect\n",
    "src2 = urllib.quote_plus(inspect.getsource(eprob))"
   ]
  },
  {
   "cell_type": "code",
   "execution_count": null,
   "metadata": {
    "collapsed": true
   },
   "outputs": [],
   "source": [
    "# VERIFICA TU CODIGO\n",
    "import numpy as np\n",
    "eprob(np.random.normal(loc=10, scale=2, size=10000),6,14)"
   ]
  },
  {
   "cell_type": "markdown",
   "metadata": {},
   "source": [
    "#### evaluate your answer before submitting:"
   ]
  },
  {
   "cell_type": "code",
   "execution_count": null,
   "metadata": {
    "collapsed": true
   },
   "outputs": [],
   "source": [
    "!./run CHECK_SOLUTION PS2_2 $src2"
   ]
  },
  {
   "cell_type": "code",
   "execution_count": null,
   "metadata": {
    "collapsed": true
   },
   "outputs": [],
   "source": [
    "!./run SUBMIT_SOLUTION PS2_2 $src2"
   ]
  },
  {
   "cell_type": "markdown",
   "metadata": {},
   "source": [
    "### Ejercicio 3: Intervalo de confianza empírico"
   ]
  },
  {
   "cell_type": "markdown",
   "metadata": {},
   "source": [
    "Completa la función siguiente para que, dada una muestra `X`, devuelva un intervalo cualquiera $(a,b)$ que contenga el `p` por ciento de los elementos de `X`. Es decir que\n",
    "\n",
    "$$P(X\\ge a\\;\\; \\&\\;\\; X\\le b) = p$$\n",
    "\n",
    "\n",
    "**Ejemplo de ejecución**\n",
    "     > X = np.random.normal(size=100)\n",
    "     > a,b = interval(X,.95)\n",
    "     > print \"empirical prob for interval\", np.mean( (X>=a) & (X<=b) )\n",
    "\n",
    "     empirical prob for interval 0.95\n",
    "     \n",
    "_el resultado seguramente no sea exactamente este, sino muy cercano_\n",
    "\n",
    "**Sugerencia**: Considera usar la función [`np.percentile`](https://docs.scipy.org/doc/numpy-dev/reference/generated/numpy.percentile.html)"
   ]
  },
  {
   "cell_type": "code",
   "execution_count": null,
   "metadata": {
    "collapsed": true
   },
   "outputs": [],
   "source": [
    "def interval(X,p):\n",
    "    # TU CODIGO AQUI\n",
    "    a = ...\n",
    "    b = ...\n",
    "    return a,b\n",
    "\n",
    "import urllib, inspect\n",
    "src3 = urllib.quote_plus(inspect.getsource(interval))"
   ]
  },
  {
   "cell_type": "code",
   "execution_count": null,
   "metadata": {
    "collapsed": true
   },
   "outputs": [],
   "source": [
    "## VERIFICA TU CODIGO\n",
    "import scipy.stats as stats\n",
    "X = np.random.normal(size=100)\n",
    "a,b = interval(X,.95)\n",
    "print \"interval\", a,b\n",
    "print \"empirical prob for interval\", np.mean( (X>=a) & (X<=b) )"
   ]
  },
  {
   "cell_type": "markdown",
   "metadata": {},
   "source": [
    "#### evaluate your answer before submitting:"
   ]
  },
  {
   "cell_type": "code",
   "execution_count": null,
   "metadata": {
    "collapsed": true
   },
   "outputs": [],
   "source": [
    "!./run CHECK_SOLUTION PS2_3 $src3"
   ]
  },
  {
   "cell_type": "markdown",
   "metadata": {},
   "source": [
    "#### submit your answer (you must be connected to internet)"
   ]
  },
  {
   "cell_type": "code",
   "execution_count": null,
   "metadata": {
    "collapsed": true
   },
   "outputs": [],
   "source": [
    "!./run SUBMIT_SOLUTION PS2_3 $src3"
   ]
  },
  {
   "cell_type": "markdown",
   "metadata": {
    "collapsed": true
   },
   "source": [
    "### Ejercicio 4: Probabilidad condicional desde un DataFrame de Pandas"
   ]
  },
  {
   "cell_type": "markdown",
   "metadata": {},
   "source": [
    "completa la función siguiente para que, dado un dataframe X como, por ejemplo el siguiente:\n",
    "    \n",
    "    X = \n",
    "\n",
    "|   | A  |  B  |\n",
    "|---|---|---|\n",
    "|**0**   | 0  |  1 |   \n",
    "|**1**   | 2  |  1 | \n",
    "|**2**   | 2  |  2 | \n",
    "|**3**   | 0  |  1 | \n",
    "|**4**   | 2  |  0 |   \n",
    "\n",
    "y dos valores $a$ y $b$, devuelva la probabilidad condicional\n",
    "\n",
    "$$P(B=b|A=a)$$\n",
    "\n",
    "\n",
    "**Nota**: Si $P(A=a)=0$, adoptamos la convención de que $P(B=b|A=a)=0$\n",
    "\n",
    "**Ejecución de ejemplo**\n",
    "\n",
    "sobre el dataframe anterior\n",
    "\n",
    "    > cond(X,2,0)\n",
    "    0.3333\n",
    "    \n",
    "    > cond(X,1,0)\n",
    "    0.0\n"
   ]
  },
  {
   "cell_type": "code",
   "execution_count": null,
   "metadata": {
    "collapsed": true
   },
   "outputs": [],
   "source": [
    "def cond(X,a,b):\n",
    "    \n",
    "    # TU CODIGO AQUI\n",
    "    result = ...\n",
    "    return result\n",
    "\n",
    "import urllib, inspect\n",
    "src4 = urllib.quote_plus(inspect.getsource(cond))"
   ]
  },
  {
   "cell_type": "code",
   "execution_count": null,
   "metadata": {
    "collapsed": true
   },
   "outputs": [],
   "source": [
    "# VERIFICA TU CODIGO\n",
    "X = pd.DataFrame(np.array([[0,1],[2,1],[2,2],[0,1],[2,0]]), columns=[\"A\", \"B\"])\n",
    "print cond(X,2,0)\n",
    "print cond(X,1,0)"
   ]
  },
  {
   "cell_type": "markdown",
   "metadata": {},
   "source": [
    "#### evaluate your answer before submitting:"
   ]
  },
  {
   "cell_type": "code",
   "execution_count": null,
   "metadata": {
    "collapsed": true
   },
   "outputs": [],
   "source": [
    "!./run CHECK_SOLUTION PS2_4 $src4"
   ]
  },
  {
   "cell_type": "markdown",
   "metadata": {},
   "source": [
    "#### submit your answer (you must be connected to internet)"
   ]
  },
  {
   "cell_type": "code",
   "execution_count": null,
   "metadata": {
    "collapsed": true
   },
   "outputs": [],
   "source": [
    "!./run SUBMIT_SOLUTION PS2_4 $src4"
   ]
  },
  {
   "cell_type": "markdown",
   "metadata": {},
   "source": [
    "### Ejercicio 5: Teorema de Bayes\n",
    "\n",
    "Dado un dataframe como en el ejercicio anterior, completa la función siguiente para que calcule los dos términos del teorema de Bayes:\n",
    "\n",
    "- $P(B=b|A=a)P(A=a)$\n",
    "- $\\sum_{i \\in [0,1,2]}P(B=b|A=i)P(A=i)$\n",
    "\n",
    "de forma que:\n",
    "\n",
    "$$P(A|B) = \\frac{P(B|A)P(A)}{\\sum_{A_i \\in A}P(B|A_i)P(A_i)}$$\n",
    "\n",
    "\n",
    "observa que para este ejercicio establecemos que $A$ y $B$ solo pueden tomar valores $\\in [0,1,2]$\n",
    "\n",
    "**Ejemplo de ejecución**\n",
    "\n",
    "con el dataframe de ejemplo del ejercicio anterior\n",
    "\n",
    "    > t1,t2 = bayes (X,0,1)\n",
    "    > print \"terms \", t1,t2\n",
    "    > print \"P(A|B)\", t1/t2\n",
    "    \n",
    "    terms  0.4 0.6\n",
    "    P(A|B) 0.666666666667"
   ]
  },
  {
   "cell_type": "code",
   "execution_count": null,
   "metadata": {
    "collapsed": true
   },
   "outputs": [],
   "source": [
    "def bayes(X,a,b):\n",
    "    \n",
    "    # TU CODIGO AQUI\n",
    "    t1,t2 = ...\n",
    "    return t1,t2\n",
    "\n",
    "import urllib, inspect\n",
    "src5 = urllib.quote_plus(inspect.getsource(bayes))"
   ]
  },
  {
   "cell_type": "code",
   "execution_count": null,
   "metadata": {
    "collapsed": true
   },
   "outputs": [],
   "source": [
    "# VERIFICA TU CODIGO\n",
    "X = pd.DataFrame(np.array([[0,1],[2,1],[2,2],[0,1],[2,0]]), columns=[\"A\", \"B\"])\n",
    "t1,t2 = bayes (X,0,1)\n",
    "print \"terms \", t1,t2\n",
    "print \"P(A|B)\", t1/t2\n"
   ]
  },
  {
   "cell_type": "markdown",
   "metadata": {},
   "source": [
    "#### evaluate your answer before submitting:"
   ]
  },
  {
   "cell_type": "code",
   "execution_count": null,
   "metadata": {
    "collapsed": true
   },
   "outputs": [],
   "source": [
    "!./run CHECK_SOLUTION PS2_5 $src5"
   ]
  },
  {
   "cell_type": "markdown",
   "metadata": {},
   "source": [
    "#### submit your answer (you must be connected to internet)"
   ]
  },
  {
   "cell_type": "code",
   "execution_count": null,
   "metadata": {
    "collapsed": true
   },
   "outputs": [],
   "source": [
    "!./run SUBMIT_SOLUTION PS2_5 $src5"
   ]
  }
 ],
 "metadata": {
  "anaconda-cloud": {},
  "kernelspec": {
   "display_name": "Python 2",
   "language": "python",
   "name": "python2"
  },
  "language_info": {
   "codemirror_mode": {
    "name": "ipython",
    "version": 2
   },
   "file_extension": ".py",
   "mimetype": "text/x-python",
   "name": "python",
   "nbconvert_exporter": "python",
   "pygments_lexer": "ipython2",
   "version": "2.7.11"
  },
  "toc": {
   "toc_cell": false,
   "toc_number_sections": false,
   "toc_threshold": 6,
   "toc_window_display": false
  },
  "widgets": {
   "state": {},
   "version": "1.1.2"
  }
 },
 "nbformat": 4,
 "nbformat_minor": 1
}
